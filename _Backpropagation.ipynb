{
 "cells": [
  {
   "cell_type": "code",
   "execution_count": 7,
   "id": "d1a0b035",
   "metadata": {},
   "outputs": [
    {
     "name": "stdout",
     "output_type": "stream",
     "text": [
      "Forward Pass Values:\n",
      "out_h1: 0.5932699921071872, out_h2: 0.596884378259767\n",
      "out_o1: 0.7513650695523157, out_o2: 0.7729284653214625\n",
      "Total Error: 0.2983711087600027\n",
      "\n",
      "Updated Weights After Backward Pass:\n",
      "w1: 0.14981763856120295\n",
      "w2: 0.19963527712240592\n",
      "w3: 0.2497881851977662\n",
      "w4: 0.29957637039553237\n",
      "w5: 0.35891647971788465\n",
      "w6: 0.4086661860762334\n",
      "w7: 0.5113012702387375\n",
      "w8: 0.5613701211079891\n"
     ]
    }
   ],
   "source": [
    "import math\n",
    "\n",
    "def sigmoid(x):\n",
    "    return 1 / (1 + math.exp(-x))\n",
    "\n",
    "def sigmoid_derivative(x):\n",
    "    return x * (1 - x)\n",
    "\n",
    "inputs = [0.05, 0.1]\n",
    "weights = {\n",
    "    'w1': 0.15, 'w2': 0.20, 'w3': 0.25, 'w4': 0.30,\n",
    "    'w5': 0.40, 'w6': 0.45, 'w7': 0.50, 'w8': 0.55\n",
    "}\n",
    "biases = {'b1': 0.35, 'b2': 0.60}\n",
    "targets = [0.01, 0.99]\n",
    "eta = 0.5\n",
    "\n",
    "net_h1 = weights['w1'] * inputs[0] + weights['w2'] * inputs[1] + biases['b1']\n",
    "out_h1 = sigmoid(net_h1)\n",
    "\n",
    "net_h2 = weights['w3'] * inputs[0] + weights['w4'] * inputs[1] + biases['b1']\n",
    "out_h2 = sigmoid(net_h2)\n",
    "\n",
    "net_o1 = weights['w5'] * out_h1 + weights['w6'] * out_h2 + biases['b2']\n",
    "out_o1 = sigmoid(net_o1)\n",
    "\n",
    "net_o2 = weights['w7'] * out_h1 + weights['w8'] * out_h2 + biases['b2']\n",
    "out_o2 = sigmoid(net_o2)\n",
    "\n",
    "E_total = 0.5 * ((targets[0] - out_o1) ** 2 + (targets[1] - out_o2) ** 2)\n",
    "\n",
    "print(\"Forward Pass Values:\")\n",
    "print(f\"out_h1: {out_h1}, out_h2: {out_h2}\")\n",
    "print(f\"out_o1: {out_o1}, out_o2: {out_o2}\")\n",
    "print(f\"Total Error: {E_total}\")\n",
    "\n",
    "grad_out_o1 = -(targets[0] - out_o1) * sigmoid_derivative(out_o1)\n",
    "grad_out_o2 = -(targets[1] - out_o2) * sigmoid_derivative(out_o2)\n",
    "\n",
    "updates = {\n",
    "    'w5': grad_out_o1 * out_h1, 'w6': grad_out_o1 * out_h2,\n",
    "    'w7': grad_out_o2 * out_h1, 'w8': grad_out_o2 * out_h2\n",
    "}\n",
    "\n",
    "for key in ['w5', 'w6', 'w7', 'w8']:\n",
    "    weights[key] -= eta * updates[key]\n",
    "\n",
    "grad_h1 = (grad_out_o1 * weights['w5'] + grad_out_o2 * weights['w7']) * sigmoid_derivative(out_h1)\n",
    "grad_h2 = (grad_out_o1 * weights['w6'] + grad_out_o2 * weights['w8']) * sigmoid_derivative(out_h2)\n",
    "\n",
    "updates.update({\n",
    "    'w1': grad_h1 * inputs[0], 'w2': grad_h1 * inputs[1],\n",
    "    'w3': grad_h2 * inputs[0], 'w4': grad_h2 * inputs[1]\n",
    "})\n",
    "\n",
    "for key in ['w1', 'w2', 'w3', 'w4']:\n",
    "    weights[key] -= eta * updates[key]\n",
    "\n",
    "print(\"\\nUpdated Weights After Backward Pass:\")\n",
    "for key in weights:\n",
    "    print(f\"{key}: {weights[key]}\")"
   ]
  },
  {
   "cell_type": "code",
   "execution_count": null,
   "id": "710df258",
   "metadata": {},
   "outputs": [],
   "source": []
  }
 ],
 "metadata": {
  "kernelspec": {
   "display_name": "Python 3 (ipykernel)",
   "language": "python",
   "name": "python3"
  },
  "language_info": {
   "codemirror_mode": {
    "name": "ipython",
    "version": 3
   },
   "file_extension": ".py",
   "mimetype": "text/x-python",
   "name": "python",
   "nbconvert_exporter": "python",
   "pygments_lexer": "ipython3",
   "version": "3.11.5"
  }
 },
 "nbformat": 4,
 "nbformat_minor": 5
}
